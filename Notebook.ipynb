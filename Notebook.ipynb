{
  "nbformat": 4,
  "nbformat_minor": 0,
  "metadata": {
    "colab": {
      "provenance": []
    },
    "kernelspec": {
      "name": "python3",
      "display_name": "Python 3"
    },
    "language_info": {
      "name": "python"
    },
    "gpuClass": "standard"
  },
  "cells": [
    {
      "cell_type": "code",
      "source": [
        "from google.colab import drive\n",
        "drive.mount('/content/drive')"
      ],
      "metadata": {
        "colab": {
          "base_uri": "https://localhost:8080/"
        },
        "id": "aBP6nsuNo0vh",
        "outputId": "8710203a-9609-404f-8d59-2e7b87083eb4"
      },
      "execution_count": null,
      "outputs": [
        {
          "output_type": "stream",
          "name": "stdout",
          "text": [
            "Mounted at /content/drive\n"
          ]
        }
      ]
    },
    {
      "cell_type": "markdown",
      "source": [
        "Installing the necessary packages"
      ],
      "metadata": {
        "id": "eS8RJlo_C4Uf"
      }
    },
    {
      "cell_type": "code",
      "source": [
        "!pip install tensorflow --quiet\n",
        "!pip install tensorflow-text --quiet\n",
        "!pip install tensorflow_hub --quiet\n",
        "!pip install matplotlib --quiet"
      ],
      "metadata": {
        "id": "nCt0fMPRHudU",
        "colab": {
          "base_uri": "https://localhost:8080/"
        },
        "outputId": "d072a098-18b1-45af-b2b9-2103832750bd"
      },
      "execution_count": null,
      "outputs": [
        {
          "output_type": "stream",
          "name": "stdout",
          "text": [
            "\u001b[2K     \u001b[90m━━━━━━━━━━━━━━━━━━━━━━━━━━━━━━━━━━━━━━━━\u001b[0m \u001b[32m6.5/6.5 MB\u001b[0m \u001b[31m57.4 MB/s\u001b[0m eta \u001b[36m0:00:00\u001b[0m\n",
            "\u001b[2K     \u001b[90m━━━━━━━━━━━━━━━━━━━━━━━━━━━━━━━━━━━━━━━\u001b[0m \u001b[32m524.1/524.1 MB\u001b[0m \u001b[31m3.3 MB/s\u001b[0m eta \u001b[36m0:00:00\u001b[0m\n",
            "\u001b[2K     \u001b[90m━━━━━━━━━━━━━━━━━━━━━━━━━━━━━━━━━━━━━━━━\u001b[0m \u001b[32m1.7/1.7 MB\u001b[0m \u001b[31m104.4 MB/s\u001b[0m eta \u001b[36m0:00:00\u001b[0m\n",
            "\u001b[2K     \u001b[90m━━━━━━━━━━━━━━━━━━━━━━━━━━━━━━━━━━━━━━━━\u001b[0m \u001b[32m5.6/5.6 MB\u001b[0m \u001b[31m133.0 MB/s\u001b[0m eta \u001b[36m0:00:00\u001b[0m\n",
            "\u001b[2K     \u001b[90m━━━━━━━━━━━━━━━━━━━━━━━━━━━━━━━━━━━━━━\u001b[0m \u001b[32m440.8/440.8 kB\u001b[0m \u001b[31m44.6 MB/s\u001b[0m eta \u001b[36m0:00:00\u001b[0m\n",
            "\u001b[?25h"
          ]
        }
      ]
    },
    {
      "cell_type": "code",
      "execution_count": null,
      "metadata": {
        "id": "FDM6q8pBKixj"
      },
      "outputs": [],
      "source": [
        "import numpy as np\n",
        "# import seaborn as sns\n",
        "import pandas\n",
        "# import matplotlib.pyplot as plt\n",
        "import tensorflow as tf\n",
        "import tensorflow_text\n",
        "import tensorflow_hub as hub\n",
        "import keras"
      ]
    },
    {
      "cell_type": "markdown",
      "source": [
        "Importing the bert base model for sentence vectorization and the necessary pre-processor for it from tensorflow hub"
      ],
      "metadata": {
        "id": "O3ib_pj_DInU"
      }
    },
    {
      "cell_type": "code",
      "source": [
        "text_preprocessor = hub.KerasLayer(\"https://tfhub.dev/tensorflow/bert_en_uncased_preprocess/3\")\n",
        "encoder = hub.KerasLayer(\"https://tfhub.dev/tensorflow/bert_en_uncased_L-12_H-768_A-12/4\")"
      ],
      "metadata": {
        "id": "5jrVMSMoHrvd"
      },
      "execution_count": null,
      "outputs": []
    },
    {
      "cell_type": "code",
      "source": [
        "df = pandas.read_csv('/content/drive/MyDrive/train.csv')"
      ],
      "metadata": {
        "id": "_CDtbaRUMJqJ"
      },
      "execution_count": null,
      "outputs": []
    },
    {
      "cell_type": "markdown",
      "source": [
        "droping rows with empty valuse in the columns of DESCRIPTION and BULLET_POINTS"
      ],
      "metadata": {
        "id": "8jSSwwpYDYTL"
      }
    },
    {
      "cell_type": "code",
      "source": [
        "df = df.dropna(subset=['DESCRIPTION', 'BULLET_POINTS'])\n",
        "target = df.pop(\"PRODUCT_LENGTH\")"
      ],
      "metadata": {
        "id": "epq2QBnqwMrG"
      },
      "execution_count": null,
      "outputs": []
    },
    {
      "cell_type": "markdown",
      "source": [
        "Removing the extra and unecessary characters in \"BULLET POINTS\""
      ],
      "metadata": {
        "id": "XQCaqutXDg7W"
      }
    },
    {
      "cell_type": "code",
      "source": [
        "t = len(df)\n",
        "df[\"BULLET_POINTS\"] = df[\"BULLET_POINTS\"].str.replace('|', '', regex=True)\n",
        "df[\"BULLET_POINTS\"] = df[\"BULLET_POINTS\"].str.replace('\\[', '', regex=True)\n",
        "df[\"BULLET_POINTS\"] = df[\"BULLET_POINTS\"].str.replace('\\]', '', regex=True)\n",
        "print(t)"
      ],
      "metadata": {
        "colab": {
          "base_uri": "https://localhost:8080/"
        },
        "id": "L4Z7nK8Y45Wk",
        "outputId": "b1486cee-86f9-4c37-9730-2c95e35e6ade"
      },
      "execution_count": null,
      "outputs": [
        {
          "output_type": "stream",
          "name": "stdout",
          "text": [
            "1038460\n"
          ]
        }
      ]
    },
    {
      "cell_type": "markdown",
      "source": [
        "constricting the feature set to just three features"
      ],
      "metadata": {
        "id": "CCelpBPpDu09"
      }
    },
    {
      "cell_type": "code",
      "source": [
        "df = df[[\"TITLE\", \"DESCRIPTION\",\"BULLET_POINTS\", \"PRODUCT_TYPE_ID\"]]\n",
        "df.head()"
      ],
      "metadata": {
        "id": "LblAWIWy61BJ",
        "colab": {
          "base_uri": "https://localhost:8080/",
          "height": 206
        },
        "outputId": "4ffa2286-ecc0-4fcb-cf1d-fc32fc04b7e7"
      },
      "execution_count": null,
      "outputs": [
        {
          "output_type": "execute_result",
          "data": {
            "text/plain": [
              "                                               TITLE  \\\n",
              "2  PRIKNIK Horn Red Electric Air Horn Compressor ...   \n",
              "3  ALISHAH Women's Cotton Ankle Length Leggings C...   \n",
              "5  HINS Metal Bucket Shape Plant Pot for Indoor &...   \n",
              "7  Delavala Self Adhesive Kitchen Backsplash Wall...   \n",
              "9  Hexwell Essential oil for Home Fragrance Oil A...   \n",
              "\n",
              "                                         DESCRIPTION  \\\n",
              "2  Specifications: Color: Red, Material: Aluminiu...   \n",
              "3  AISHAH Women's Lycra Cotton Ankel Leggings. Br...   \n",
              "5  HINS Brings you the most Elegant Looking Pot w...   \n",
              "7  <p><strong>Aluminum Foil Stickers-good kitchen...   \n",
              "9  Transform your home, workplace or hotel room i...   \n",
              "\n",
              "                                       BULLET_POINTS  PRODUCT_TYPE_ID  \n",
              "2  Loud Dual Tone Trumpet Horn, Compatible With S...             7537  \n",
              "3  Made By 95%cotton and 5% Lycra which gives you...             2996  \n",
              "5  Simple and elegant, great for displaying indoo...             5725  \n",
              "7  HIGH QUALITY PVC MATERIAL: The kitchen aluminu...             6030  \n",
              "9  100% Pure And Natural Essential Oil Or Fragran...             8201  "
            ],
            "text/html": [
              "\n",
              "\n",
              "  <div id=\"df-cd13d165-65e2-4590-80da-fc4f62f23dfa\">\n",
              "    <div class=\"colab-df-container\">\n",
              "      <div>\n",
              "<style scoped>\n",
              "    .dataframe tbody tr th:only-of-type {\n",
              "        vertical-align: middle;\n",
              "    }\n",
              "\n",
              "    .dataframe tbody tr th {\n",
              "        vertical-align: top;\n",
              "    }\n",
              "\n",
              "    .dataframe thead th {\n",
              "        text-align: right;\n",
              "    }\n",
              "</style>\n",
              "<table border=\"1\" class=\"dataframe\">\n",
              "  <thead>\n",
              "    <tr style=\"text-align: right;\">\n",
              "      <th></th>\n",
              "      <th>TITLE</th>\n",
              "      <th>DESCRIPTION</th>\n",
              "      <th>BULLET_POINTS</th>\n",
              "      <th>PRODUCT_TYPE_ID</th>\n",
              "    </tr>\n",
              "  </thead>\n",
              "  <tbody>\n",
              "    <tr>\n",
              "      <th>2</th>\n",
              "      <td>PRIKNIK Horn Red Electric Air Horn Compressor ...</td>\n",
              "      <td>Specifications: Color: Red, Material: Aluminiu...</td>\n",
              "      <td>Loud Dual Tone Trumpet Horn, Compatible With S...</td>\n",
              "      <td>7537</td>\n",
              "    </tr>\n",
              "    <tr>\n",
              "      <th>3</th>\n",
              "      <td>ALISHAH Women's Cotton Ankle Length Leggings C...</td>\n",
              "      <td>AISHAH Women's Lycra Cotton Ankel Leggings. Br...</td>\n",
              "      <td>Made By 95%cotton and 5% Lycra which gives you...</td>\n",
              "      <td>2996</td>\n",
              "    </tr>\n",
              "    <tr>\n",
              "      <th>5</th>\n",
              "      <td>HINS Metal Bucket Shape Plant Pot for Indoor &amp;...</td>\n",
              "      <td>HINS Brings you the most Elegant Looking Pot w...</td>\n",
              "      <td>Simple and elegant, great for displaying indoo...</td>\n",
              "      <td>5725</td>\n",
              "    </tr>\n",
              "    <tr>\n",
              "      <th>7</th>\n",
              "      <td>Delavala Self Adhesive Kitchen Backsplash Wall...</td>\n",
              "      <td>&lt;p&gt;&lt;strong&gt;Aluminum Foil Stickers-good kitchen...</td>\n",
              "      <td>HIGH QUALITY PVC MATERIAL: The kitchen aluminu...</td>\n",
              "      <td>6030</td>\n",
              "    </tr>\n",
              "    <tr>\n",
              "      <th>9</th>\n",
              "      <td>Hexwell Essential oil for Home Fragrance Oil A...</td>\n",
              "      <td>Transform your home, workplace or hotel room i...</td>\n",
              "      <td>100% Pure And Natural Essential Oil Or Fragran...</td>\n",
              "      <td>8201</td>\n",
              "    </tr>\n",
              "  </tbody>\n",
              "</table>\n",
              "</div>\n",
              "      <button class=\"colab-df-convert\" onclick=\"convertToInteractive('df-cd13d165-65e2-4590-80da-fc4f62f23dfa')\"\n",
              "              title=\"Convert this dataframe to an interactive table.\"\n",
              "              style=\"display:none;\">\n",
              "\n",
              "  <svg xmlns=\"http://www.w3.org/2000/svg\" height=\"24px\"viewBox=\"0 0 24 24\"\n",
              "       width=\"24px\">\n",
              "    <path d=\"M0 0h24v24H0V0z\" fill=\"none\"/>\n",
              "    <path d=\"M18.56 5.44l.94 2.06.94-2.06 2.06-.94-2.06-.94-.94-2.06-.94 2.06-2.06.94zm-11 1L8.5 8.5l.94-2.06 2.06-.94-2.06-.94L8.5 2.5l-.94 2.06-2.06.94zm10 10l.94 2.06.94-2.06 2.06-.94-2.06-.94-.94-2.06-.94 2.06-2.06.94z\"/><path d=\"M17.41 7.96l-1.37-1.37c-.4-.4-.92-.59-1.43-.59-.52 0-1.04.2-1.43.59L10.3 9.45l-7.72 7.72c-.78.78-.78 2.05 0 2.83L4 21.41c.39.39.9.59 1.41.59.51 0 1.02-.2 1.41-.59l7.78-7.78 2.81-2.81c.8-.78.8-2.07 0-2.86zM5.41 20L4 18.59l7.72-7.72 1.47 1.35L5.41 20z\"/>\n",
              "  </svg>\n",
              "      </button>\n",
              "\n",
              "\n",
              "\n",
              "    <div id=\"df-9d5185bd-4773-4392-bbd6-41f7ffa26d02\">\n",
              "      <button class=\"colab-df-quickchart\" onclick=\"quickchart('df-9d5185bd-4773-4392-bbd6-41f7ffa26d02')\"\n",
              "              title=\"Suggest charts.\"\n",
              "              style=\"display:none;\">\n",
              "\n",
              "<svg xmlns=\"http://www.w3.org/2000/svg\" height=\"24px\"viewBox=\"0 0 24 24\"\n",
              "     width=\"24px\">\n",
              "    <g>\n",
              "        <path d=\"M19 3H5c-1.1 0-2 .9-2 2v14c0 1.1.9 2 2 2h14c1.1 0 2-.9 2-2V5c0-1.1-.9-2-2-2zM9 17H7v-7h2v7zm4 0h-2V7h2v10zm4 0h-2v-4h2v4z\"/>\n",
              "    </g>\n",
              "</svg>\n",
              "      </button>\n",
              "    </div>\n",
              "\n",
              "<style>\n",
              "  .colab-df-quickchart {\n",
              "    background-color: #E8F0FE;\n",
              "    border: none;\n",
              "    border-radius: 50%;\n",
              "    cursor: pointer;\n",
              "    display: none;\n",
              "    fill: #1967D2;\n",
              "    height: 32px;\n",
              "    padding: 0 0 0 0;\n",
              "    width: 32px;\n",
              "  }\n",
              "\n",
              "  .colab-df-quickchart:hover {\n",
              "    background-color: #E2EBFA;\n",
              "    box-shadow: 0px 1px 2px rgba(60, 64, 67, 0.3), 0px 1px 3px 1px rgba(60, 64, 67, 0.15);\n",
              "    fill: #174EA6;\n",
              "  }\n",
              "\n",
              "  [theme=dark] .colab-df-quickchart {\n",
              "    background-color: #3B4455;\n",
              "    fill: #D2E3FC;\n",
              "  }\n",
              "\n",
              "  [theme=dark] .colab-df-quickchart:hover {\n",
              "    background-color: #434B5C;\n",
              "    box-shadow: 0px 1px 3px 1px rgba(0, 0, 0, 0.15);\n",
              "    filter: drop-shadow(0px 1px 2px rgba(0, 0, 0, 0.3));\n",
              "    fill: #FFFFFF;\n",
              "  }\n",
              "</style>\n",
              "\n",
              "    <script>\n",
              "      async function quickchart(key) {\n",
              "        const containerElement = document.querySelector('#' + key);\n",
              "        const charts = await google.colab.kernel.invokeFunction(\n",
              "            'suggestCharts', [key], {});\n",
              "      }\n",
              "    </script>\n",
              "\n",
              "      <script>\n",
              "\n",
              "function displayQuickchartButton(domScope) {\n",
              "  let quickchartButtonEl =\n",
              "    domScope.querySelector('#df-9d5185bd-4773-4392-bbd6-41f7ffa26d02 button.colab-df-quickchart');\n",
              "  quickchartButtonEl.style.display =\n",
              "    google.colab.kernel.accessAllowed ? 'block' : 'none';\n",
              "}\n",
              "\n",
              "        displayQuickchartButton(document);\n",
              "      </script>\n",
              "      <style>\n",
              "    .colab-df-container {\n",
              "      display:flex;\n",
              "      flex-wrap:wrap;\n",
              "      gap: 12px;\n",
              "    }\n",
              "\n",
              "    .colab-df-convert {\n",
              "      background-color: #E8F0FE;\n",
              "      border: none;\n",
              "      border-radius: 50%;\n",
              "      cursor: pointer;\n",
              "      display: none;\n",
              "      fill: #1967D2;\n",
              "      height: 32px;\n",
              "      padding: 0 0 0 0;\n",
              "      width: 32px;\n",
              "    }\n",
              "\n",
              "    .colab-df-convert:hover {\n",
              "      background-color: #E2EBFA;\n",
              "      box-shadow: 0px 1px 2px rgba(60, 64, 67, 0.3), 0px 1px 3px 1px rgba(60, 64, 67, 0.15);\n",
              "      fill: #174EA6;\n",
              "    }\n",
              "\n",
              "    [theme=dark] .colab-df-convert {\n",
              "      background-color: #3B4455;\n",
              "      fill: #D2E3FC;\n",
              "    }\n",
              "\n",
              "    [theme=dark] .colab-df-convert:hover {\n",
              "      background-color: #434B5C;\n",
              "      box-shadow: 0px 1px 3px 1px rgba(0, 0, 0, 0.15);\n",
              "      filter: drop-shadow(0px 1px 2px rgba(0, 0, 0, 0.3));\n",
              "      fill: #FFFFFF;\n",
              "    }\n",
              "  </style>\n",
              "\n",
              "      <script>\n",
              "        const buttonEl =\n",
              "          document.querySelector('#df-cd13d165-65e2-4590-80da-fc4f62f23dfa button.colab-df-convert');\n",
              "        buttonEl.style.display =\n",
              "          google.colab.kernel.accessAllowed ? 'block' : 'none';\n",
              "\n",
              "        async function convertToInteractive(key) {\n",
              "          const element = document.querySelector('#df-cd13d165-65e2-4590-80da-fc4f62f23dfa');\n",
              "          const dataTable =\n",
              "            await google.colab.kernel.invokeFunction('convertToInteractive',\n",
              "                                                     [key], {});\n",
              "          if (!dataTable) return;\n",
              "\n",
              "          const docLinkHtml = 'Like what you see? Visit the ' +\n",
              "            '<a target=\"_blank\" href=https://colab.research.google.com/notebooks/data_table.ipynb>data table notebook</a>'\n",
              "            + ' to learn more about interactive tables.';\n",
              "          element.innerHTML = '';\n",
              "          dataTable['output_type'] = 'display_data';\n",
              "          await google.colab.output.renderOutput(dataTable, element);\n",
              "          const docLink = document.createElement('div');\n",
              "          docLink.innerHTML = docLinkHtml;\n",
              "          element.appendChild(docLink);\n",
              "        }\n",
              "      </script>\n",
              "    </div>\n",
              "  </div>\n"
            ]
          },
          "metadata": {},
          "execution_count": 8
        }
      ]
    },
    {
      "cell_type": "code",
      "source": [
        "ds = tf.convert_to_tensor(df[\"BULLET_POINTS\"])"
      ],
      "metadata": {
        "id": "TuRPUTdO47RD"
      },
      "execution_count": null,
      "outputs": []
    },
    {
      "cell_type": "markdown",
      "source": [
        "Defining the Inputs"
      ],
      "metadata": {
        "id": "6B4OKxKWD8Ge"
      }
    },
    {
      "cell_type": "code",
      "source": [
        "inputs = {}\n",
        "for name, column in df.items():\n",
        "  if type(column.iloc[0]) == str:                                     # checking if the data type is string or numerical\n",
        "    dtype=tf.string                                                   # if string then set the dtype to tensorflow string\n",
        "    inputs[name] = tf.keras.Input(shape=(), name=name, dtype=dtype)\n",
        "  else:\n",
        "    dtype = tf.int64                                                  # else set dtype to tensorflow 64 bit integer\n",
        "    inputs[name] = tf.keras.Input(shape=(), name=name, dtype=dtype)"
      ],
      "metadata": {
        "id": "PLhOuNogB0p-"
      },
      "execution_count": null,
      "outputs": []
    },
    {
      "cell_type": "code",
      "source": [
        "inputs # created a virtual input or like the input configuration"
      ],
      "metadata": {
        "colab": {
          "base_uri": "https://localhost:8080/"
        },
        "id": "O_KxxNk4CmoN",
        "outputId": "285425a6-6480-4a1a-ebff-f3a458e43481"
      },
      "execution_count": null,
      "outputs": [
        {
          "output_type": "execute_result",
          "data": {
            "text/plain": [
              "{'TITLE': <KerasTensor: shape=(None,) dtype=string (created by layer 'TITLE')>,\n",
              " 'DESCRIPTION': <KerasTensor: shape=(None,) dtype=string (created by layer 'DESCRIPTION')>,\n",
              " 'BULLET_POINTS': <KerasTensor: shape=(None,) dtype=string (created by layer 'BULLET_POINTS')>,\n",
              " 'PRODUCT_TYPE_ID': <KerasTensor: shape=(None,) dtype=int64 (created by layer 'PRODUCT_TYPE_ID')>}"
            ]
          },
          "metadata": {},
          "execution_count": 10
        }
      ]
    },
    {
      "cell_type": "markdown",
      "source": [
        "Creating a preprocessor"
      ],
      "metadata": {
        "id": "r_GCoTe1EDC8"
      }
    },
    {
      "cell_type": "code",
      "source": [
        "preprocessed = []\n",
        "vocab = sorted(set(df[\"PRODUCT_TYPE_ID\"]))\n",
        "lookup = tf.keras.layers.IntegerLookup(vocabulary=vocab, output_mode='one_hot')   # creating a one_hot encoding for the feature PRODUCT_TYPE_ID\n",
        "x = inputs[\"PRODUCT_TYPE_ID\"][:, tf.newaxis]\n",
        "x = lookup(x)\n",
        "preprocessed.append(x)\n",
        "for name in [\"BULLET_POINTS\", \"TITLE\", \"DESCRIPTION\"]:                            # iterating through textual features and converting the text to vectors by passing them through bert\n",
        "  x = inputs[name]\n",
        "  x = text_preprocessor(x)\n",
        "  x = encoder(x)\n",
        "  preprocessed.append(x[\"pooled_output\"])\n"
      ],
      "metadata": {
        "id": "5kj8WEhbKgVY"
      },
      "execution_count": null,
      "outputs": []
    },
    {
      "cell_type": "code",
      "source": [
        "preprocessed                                                                      # created a virtual output of the preprocessor"
      ],
      "metadata": {
        "id": "VgVV-XD2LDYl",
        "colab": {
          "base_uri": "https://localhost:8080/"
        },
        "outputId": "28a70388-48c4-477d-e0eb-101931614aab"
      },
      "execution_count": null,
      "outputs": [
        {
          "output_type": "execute_result",
          "data": {
            "text/plain": [
              "[<KerasTensor: shape=(None, 11122) dtype=float32 (created by layer 'integer_lookup')>,\n",
              " <KerasTensor: shape=(None, 768) dtype=float32 (created by layer 'keras_layer_1')>,\n",
              " <KerasTensor: shape=(None, 768) dtype=float32 (created by layer 'keras_layer_1')>,\n",
              " <KerasTensor: shape=(None, 768) dtype=float32 (created by layer 'keras_layer_1')>]"
            ]
          },
          "metadata": {},
          "execution_count": 12
        }
      ]
    },
    {
      "cell_type": "code",
      "source": [
        "preprocessed_result = tf.concat(preprocessed, axis=-1)                            # mixing all the inputs into a single tensor\n",
        "preprocessed_result"
      ],
      "metadata": {
        "colab": {
          "base_uri": "https://localhost:8080/"
        },
        "id": "_ESa86VE49Vv",
        "outputId": "dfcf4d5a-3b3c-430f-ac30-7a5c7571fb82"
      },
      "execution_count": null,
      "outputs": [
        {
          "output_type": "execute_result",
          "data": {
            "text/plain": [
              "<KerasTensor: shape=(None, 13426) dtype=float32 (created by layer 'tf.concat_1')>"
            ]
          },
          "metadata": {},
          "execution_count": 53
        }
      ]
    },
    {
      "cell_type": "code",
      "source": [
        "preprocessor = tf.keras.Model(inputs, preprocessed_result)                        # initializing a preprocessor from the inputs and outputs"
      ],
      "metadata": {
        "id": "DFl8iEY65FkJ"
      },
      "execution_count": null,
      "outputs": []
    },
    {
      "cell_type": "code",
      "source": [
        "tf.keras.utils.plot_model(preprocessor, rankdir=\"LR\", show_shapes=True)"
      ],
      "metadata": {
        "colab": {
          "base_uri": "https://localhost:8080/",
          "height": 165
        },
        "id": "wzSoIjnD5MkZ",
        "outputId": "ae3ea490-9d56-4be8-d5f5-d822f919eeaf"
      },
      "execution_count": null,
      "outputs": [
        {
          "output_type": "execute_result",
          "data": {
            "image/png": "[encoded data removed]",
            "text/plain": [
              "<IPython.core.display.Image object>"
            ]
          },
          "metadata": {},
          "execution_count": 55
        }
      ]
    },
    {
      "cell_type": "code",
      "source": [
        "preprocessor(dict(df.iloc[:1]))"
      ],
      "metadata": {
        "colab": {
          "base_uri": "https://localhost:8080/"
        },
        "id": "yVduQPdi5NvN",
        "outputId": "a00b6054-6e96-4432-dc2d-f7acbbad76fa"
      },
      "execution_count": null,
      "outputs": [
        {
          "output_type": "execute_result",
          "data": {
            "text/plain": [
              "<tf.Tensor: shape=(1, 13426), dtype=float32, numpy=\n",
              "array([[ 0.        ,  0.        ,  0.        , ..., -0.95147604,\n",
              "        -0.6242407 ,  0.65334404]], dtype=float32)>"
            ]
          },
          "metadata": {},
          "execution_count": 56
        }
      ]
    },
    {
      "cell_type": "markdown",
      "source": [
        "The Dense Network"
      ],
      "metadata": {
        "id": "9O_KS9sWER7g"
      }
    },
    {
      "cell_type": "code",
      "source": [
        "body = tf.keras.Sequential([\n",
        "    tf.keras.layers.Flatten(),\n",
        "    tf.keras.layers.Dense(4, activation='relu'),\n",
        "    tf.keras.layers.Dense(16, activation='relu'),\n",
        "    tf.keras.layers.Dense(1, activation='relu')\n",
        "])"
      ],
      "metadata": {
        "id": "61RPnmy_5Pge"
      },
      "execution_count": null,
      "outputs": []
    },
    {
      "cell_type": "code",
      "source": [
        "inputs"
      ],
      "metadata": {
        "colab": {
          "base_uri": "https://localhost:8080/"
        },
        "id": "G4J_Gzag53L-",
        "outputId": "5859446d-b6f7-4510-b7cb-0a13f6fb4653"
      },
      "execution_count": null,
      "outputs": [
        {
          "output_type": "execute_result",
          "data": {
            "text/plain": [
              "{'TITLE': <KerasTensor: shape=(None,) dtype=string (created by layer 'TITLE')>,\n",
              " 'DESCRIPTION': <KerasTensor: shape=(None,) dtype=string (created by layer 'DESCRIPTION')>,\n",
              " 'BULLET_POINTS': <KerasTensor: shape=(None,) dtype=string (created by layer 'BULLET_POINTS')>,\n",
              " 'PRODUCT_TYPE_ID': <KerasTensor: shape=(None,) dtype=int64 (created by layer 'PRODUCT_TYPE_ID')>}"
            ]
          },
          "metadata": {},
          "execution_count": 58
        }
      ]
    },
    {
      "cell_type": "code",
      "source": [
        "x = preprocessor(inputs)\n",
        "x"
      ],
      "metadata": {
        "colab": {
          "base_uri": "https://localhost:8080/"
        },
        "id": "BfLVOxdu54eb",
        "outputId": "0eeb0f1c-545e-4128-b529-a4247b2892c4"
      },
      "execution_count": null,
      "outputs": [
        {
          "output_type": "execute_result",
          "data": {
            "text/plain": [
              "<KerasTensor: shape=(None, 13426) dtype=float32 (created by layer 'model_2')>"
            ]
          },
          "metadata": {},
          "execution_count": 59
        }
      ]
    },
    {
      "cell_type": "code",
      "source": [
        "result = body(x)\n",
        "result                                                                            # definition of the final output of the model"
      ],
      "metadata": {
        "colab": {
          "base_uri": "https://localhost:8080/"
        },
        "id": "Fd5WcuPX59Bp",
        "outputId": "a8633bb8-0eb5-4218-c2de-e1325cbb5e40"
      },
      "execution_count": null,
      "outputs": [
        {
          "output_type": "execute_result",
          "data": {
            "text/plain": [
              "<KerasTensor: shape=(None, 1) dtype=float32 (created by layer 'sequential_8')>"
            ]
          },
          "metadata": {},
          "execution_count": 60
        }
      ]
    },
    {
      "cell_type": "markdown",
      "source": [
        "Final Model"
      ],
      "metadata": {
        "id": "a3vPYuIDEd5I"
      }
    },
    {
      "cell_type": "code",
      "source": [
        "model = tf.keras.Model(inputs, result)"
      ],
      "metadata": {
        "id": "1Qx1j5xw6AS3"
      },
      "execution_count": null,
      "outputs": []
    },
    {
      "cell_type": "code",
      "source": [
        "model.compile(optimizer='adam', loss=tf.keras.losses.MeanSquaredError(), metrics=['accuracy'])"
      ],
      "metadata": {
        "id": "PNPDhuOyA79j"
      },
      "execution_count": null,
      "outputs": []
    },
    {
      "cell_type": "code",
      "source": [
        "history = model.fit(dict(df), target, epochs=5, batch_size=8)"
      ],
      "metadata": {
        "colab": {
          "base_uri": "https://localhost:8080/"
        },
        "id": "bxPDQ_KEBhSb",
        "outputId": "34d59a07-8fcd-403c-cf41-2709d8d6954f"
      },
      "execution_count": null,
      "outputs": [
        {
          "output_type": "stream",
          "name": "stdout",
          "text": [
            "Epoch 1/5\n",
            "  1805/129808 [..............................] - ETA: 438:48:38 - loss: 2721839616.0000 - accuracy: 0.0015"
          ]
        }
      ]
    }
  ]
}
